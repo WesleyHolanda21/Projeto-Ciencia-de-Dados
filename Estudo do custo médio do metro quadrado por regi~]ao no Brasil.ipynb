{
 "cells": [
  {
   "cell_type": "markdown",
   "id": "a6913432",
   "metadata": {},
   "source": [
    "***\n",
    "# <font color=green size=10>Relatório de Análise</font>\n",
    "***\n",
    "## Estudo do metro quadrado no Brasil "
   ]
  },
  {
   "cell_type": "code",
   "execution_count": 2,
   "id": "009e6227",
   "metadata": {},
   "outputs": [],
   "source": [
    "import pandas as pd"
   ]
  },
  {
   "cell_type": "code",
   "execution_count": 58,
   "id": "7fd7cf6b",
   "metadata": {},
   "outputs": [],
   "source": [
    "df = pd.read_csv('Dataset/custo_do_m2.csv')\n",
    "# fonte : https://www.ibge.gov.br/estatisticas/economicas/precos-e-custos/9270-sistema-nacional-de-pesquisa-de-custos-e-indices-da-construcao-civil.html?=&t=resultados"
   ]
  },
  {
   "cell_type": "code",
   "execution_count": 59,
   "id": "73a22acb",
   "metadata": {},
   "outputs": [
    {
     "data": {
      "text/html": [
       "<div>\n",
       "<style scoped>\n",
       "    .dataframe tbody tr th:only-of-type {\n",
       "        vertical-align: middle;\n",
       "    }\n",
       "\n",
       "    .dataframe tbody tr th {\n",
       "        vertical-align: top;\n",
       "    }\n",
       "\n",
       "    .dataframe thead th {\n",
       "        text-align: right;\n",
       "    }\n",
       "</style>\n",
       "<table border=\"1\" class=\"dataframe\">\n",
       "  <thead>\n",
       "    <tr style=\"text-align: right;\">\n",
       "      <th></th>\n",
       "      <th>Unidade Geográfica</th>\n",
       "      <th>Custo médio m² - moeda corrente-Reais</th>\n",
       "      <th>Custo médio m² - número-índice-Número-índice</th>\n",
       "      <th>Custo médio m² - variação percentual em doze meses-%</th>\n",
       "      <th>Custo médio m² - variação percentual no ano-%</th>\n",
       "      <th>Custo médio m² - variação percentual no mês-%</th>\n",
       "    </tr>\n",
       "  </thead>\n",
       "  <tbody>\n",
       "    <tr>\n",
       "      <th>0</th>\n",
       "      <td>Acre</td>\n",
       "      <td>1570.60</td>\n",
       "      <td>833.61</td>\n",
       "      <td>15.29</td>\n",
       "      <td>12.32</td>\n",
       "      <td>1.67</td>\n",
       "    </tr>\n",
       "    <tr>\n",
       "      <th>1</th>\n",
       "      <td>Alagoas</td>\n",
       "      <td>1341.20</td>\n",
       "      <td>670.05</td>\n",
       "      <td>20.03</td>\n",
       "      <td>16.06</td>\n",
       "      <td>1.35</td>\n",
       "    </tr>\n",
       "    <tr>\n",
       "      <th>2</th>\n",
       "      <td>Amapá</td>\n",
       "      <td>1406.14</td>\n",
       "      <td>682.98</td>\n",
       "      <td>13.90</td>\n",
       "      <td>10.95</td>\n",
       "      <td>1.32</td>\n",
       "    </tr>\n",
       "    <tr>\n",
       "      <th>3</th>\n",
       "      <td>Amazonas</td>\n",
       "      <td>1428.45</td>\n",
       "      <td>699.31</td>\n",
       "      <td>16.63</td>\n",
       "      <td>12.54</td>\n",
       "      <td>0.74</td>\n",
       "    </tr>\n",
       "    <tr>\n",
       "      <th>4</th>\n",
       "      <td>Bahia</td>\n",
       "      <td>1465.66</td>\n",
       "      <td>775.73</td>\n",
       "      <td>24.33</td>\n",
       "      <td>17.24</td>\n",
       "      <td>0.58</td>\n",
       "    </tr>\n",
       "  </tbody>\n",
       "</table>\n",
       "</div>"
      ],
      "text/plain": [
       "   Unidade Geográfica  Custo médio m² - moeda corrente-Reais  \\\n",
       "0                Acre                                1570.60   \n",
       "1             Alagoas                                1341.20   \n",
       "2               Amapá                                1406.14   \n",
       "3            Amazonas                                1428.45   \n",
       "4               Bahia                                1465.66   \n",
       "\n",
       "   Custo médio m² - número-índice-Número-índice  \\\n",
       "0                                        833.61   \n",
       "1                                        670.05   \n",
       "2                                        682.98   \n",
       "3                                        699.31   \n",
       "4                                        775.73   \n",
       "\n",
       "   Custo médio m² - variação percentual em doze meses-%  \\\n",
       "0                                              15.29      \n",
       "1                                              20.03      \n",
       "2                                              13.90      \n",
       "3                                              16.63      \n",
       "4                                              24.33      \n",
       "\n",
       "   Custo médio m² - variação percentual no ano-%  \\\n",
       "0                                          12.32   \n",
       "1                                          16.06   \n",
       "2                                          10.95   \n",
       "3                                          12.54   \n",
       "4                                          17.24   \n",
       "\n",
       "   Custo médio m² - variação percentual no mês-%  \n",
       "0                                           1.67  \n",
       "1                                           1.35  \n",
       "2                                           1.32  \n",
       "3                                           0.74  \n",
       "4                                           0.58  "
      ]
     },
     "execution_count": 59,
     "metadata": {},
     "output_type": "execute_result"
    }
   ],
   "source": [
    "df.head(5)"
   ]
  },
  {
   "cell_type": "code",
   "execution_count": 60,
   "id": "8c467390",
   "metadata": {},
   "outputs": [],
   "source": [
    "#Realizando a troca do nome de algumas colunas para melhor compreensão\n",
    "\n",
    "df.rename(columns={' Unidade Geográfica':'Estado',\n",
    "                   'Custo médio m² - moeda corrente-Reais': 'Custo médio do m² em R$ ',\n",
    "                   'Custo médio m² - variação percentual no mês-%':'Variação percentual mês de outubro',\n",
    "                   'Custo médio m² - variação percentual no ano-%': 'Variação percentual no ano de 2021 até outubro'\n",
    "                  }, inplace = True)"
   ]
  },
  {
   "cell_type": "code",
   "execution_count": 61,
   "id": "6cd91a75",
   "metadata": {},
   "outputs": [],
   "source": [
    "#Realizado o drop de algumas colunas para nao pertinente para essa visualização para facilitar a compreensão\n",
    "df.drop(['Custo médio m² - número-índice-Número-índice', 'Custo médio m² - variação percentual em doze meses-%'],\n",
    "       axis = 1,\n",
    "       inplace = True\n",
    "       )"
   ]
  },
  {
   "cell_type": "code",
   "execution_count": null,
   "id": "8e449173",
   "metadata": {},
   "outputs": [],
   "source": [
    "#Alterando o indexo para estado\n",
    "df.set_index('Estado', inplace = True)"
   ]
  },
  {
   "cell_type": "code",
   "execution_count": 90,
   "id": "046780e9",
   "metadata": {},
   "outputs": [],
   "source": [
    "#Removendo colunas que não são estados\n",
    "df.drop(['Sul','Sudeste', 'Norte', 'Nordeste', 'Centro-Oeste', 'Brasil'], axis = 0, inplace = True)"
   ]
  },
  {
   "cell_type": "code",
   "execution_count": 100,
   "id": "4822eee1",
   "metadata": {},
   "outputs": [
    {
     "data": {
      "text/plain": [
       "27"
      ]
     },
     "execution_count": 100,
     "metadata": {},
     "output_type": "execute_result"
    }
   ],
   "source": [
    "len(df.index)"
   ]
  }
 ],
 "metadata": {
  "kernelspec": {
   "display_name": "Python 3",
   "language": "python",
   "name": "python3"
  },
  "language_info": {
   "codemirror_mode": {
    "name": "ipython",
    "version": 3
   },
   "file_extension": ".py",
   "mimetype": "text/x-python",
   "name": "python",
   "nbconvert_exporter": "python",
   "pygments_lexer": "ipython3",
   "version": "3.8.8"
  }
 },
 "nbformat": 4,
 "nbformat_minor": 5
}
